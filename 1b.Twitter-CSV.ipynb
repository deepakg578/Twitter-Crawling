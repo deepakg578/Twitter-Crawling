{
 "cells": [
  {
   "cell_type": "code",
   "execution_count": 3,
   "metadata": {
    "collapsed": true
   },
   "outputs": [],
   "source": [
    "# http://apps.twitter.com"
   ]
  },
  {
   "cell_type": "code",
   "execution_count": 1,
   "metadata": {},
   "outputs": [],
   "source": [
    "\n",
    "import tweepy\n",
    "import csv\n",
    "from tweepy import OAuthHandler\n",
    " \n",
    "consumer_key = 'yHYeejwY4m5KkOUM9S4VKyWli'\n",
    "consumer_secret = '68mBypr1Jxpp9OkQGwJJ8n3FcT1vsJW5coGZy6VQzZU9Hfbwlg'\n",
    "access_token = '49930174-sNRCVFzHvz5BZeGKGuH9mElcwQuOeBth35DMSGNDs'\n",
    "access_secret = 'uuViSHpkEeuagwzO7PKFV6jOOJ0naCU9HwtFRBHkWKyt6'\n",
    " \n",
    "auth = OAuthHandler(consumer_key, consumer_secret)\n",
    "auth.set_access_token(access_token, access_secret)\n",
    " \n",
    "api = tweepy.API(auth)"
   ]
  },
  {
   "cell_type": "code",
   "execution_count": 2,
   "metadata": {},
   "outputs": [],
   "source": [
    "def get_all_tweets(screen_name):\n",
    "    #Twitter only allows access to a users most recent 3240 tweets with this method\n",
    "\n",
    "    #authorize twitter, initialize tweepy\n",
    "    auth = tweepy.OAuthHandler(consumer_key, consumer_secret)\n",
    "    auth.set_access_token(access_token, access_secret)\n",
    "    api = tweepy.API(auth)\n",
    "\n",
    "    #initialize a list to hold all the tweepy Tweets\n",
    "    alltweets = []\n",
    "\n",
    "    #make initial request for most recent tweets (200 is the maximum allowed count)\n",
    "    new_tweets = api.user_timeline(screen_name = screen_name,count=200)\n",
    "\n",
    "    #save most recent tweets\n",
    "    alltweets.extend(new_tweets)\n",
    "\n",
    "    #save the id of the oldest tweet less one\n",
    "    oldest = alltweets[-1].id - 1\n",
    "\n",
    "    #keep grabbing tweets until there are no tweets left to grab\n",
    "    while len(new_tweets) > 0:\n",
    "        print (\"getting tweets before %s\" % (oldest))\n",
    "\n",
    "        #all subsiquent requests use the max_id param to prevent duplicates\n",
    "        new_tweets = api.user_timeline(screen_name = screen_name,count=200,max_id=oldest)\n",
    "\n",
    "        #save most recent tweets\n",
    "        alltweets.extend(new_tweets)\n",
    "\n",
    "        #update the id of the oldest tweet less one\n",
    "        oldest = alltweets[-1].id - 1\n",
    "\n",
    "        print (\"...%s tweets downloaded so far\" % (len(alltweets)))\n",
    "\n",
    "    #transform the tweepy tweets into a 2D array that will populate the csv\t\n",
    "    outtweets = [[tweet.id_str, tweet.created_at, tweet.text.encode(\"utf-8\")] for tweet in alltweets]\n",
    "\n",
    "    #write the csv\n",
    "    with open('%s_tweets.csv' % screen_name, 'w') as f:\n",
    "        writer = csv.writer(f)\n",
    "        writer.writerow([\"id\",\"created_at\",\"text\"])\n",
    "        writer.writerows(outtweets)\n",
    "\n",
    "    pass\n"
   ]
  },
  {
   "cell_type": "code",
   "execution_count": 3,
   "metadata": {},
   "outputs": [
    {
     "name": "stdout",
     "output_type": "stream",
     "text": [
      "getting tweets before 903234878124249089\n",
      "...400 tweets downloaded so far\n",
      "getting tweets before 894528885701971969\n",
      "...600 tweets downloaded so far\n",
      "getting tweets before 885570979975639039\n",
      "...800 tweets downloaded so far\n",
      "getting tweets before 876778344636927999\n",
      "...1000 tweets downloaded so far\n",
      "getting tweets before 862266225157689348\n",
      "...1200 tweets downloaded so far\n",
      "getting tweets before 848153860602507263\n",
      "...1400 tweets downloaded so far\n",
      "getting tweets before 831830548565852159\n",
      "...1600 tweets downloaded so far\n",
      "getting tweets before 820450166331346943\n",
      "...1800 tweets downloaded so far\n",
      "getting tweets before 807057700857188354\n",
      "...1999 tweets downloaded so far\n",
      "getting tweets before 794197242471124991\n",
      "...2199 tweets downloaded so far\n",
      "getting tweets before 788930105976299520\n",
      "...2399 tweets downloaded so far\n",
      "getting tweets before 785305184360693759\n",
      "...2599 tweets downloaded so far\n",
      "getting tweets before 780813996739981315\n",
      "...2799 tweets downloaded so far\n",
      "getting tweets before 773539317377478656\n",
      "...2999 tweets downloaded so far\n",
      "getting tweets before 764870785634799616\n",
      "...3199 tweets downloaded so far\n",
      "getting tweets before 758851150175055873\n",
      "...3207 tweets downloaded so far\n",
      "getting tweets before 758731880183193600\n",
      "...3207 tweets downloaded so far\n"
     ]
    }
   ],
   "source": [
    "if __name__ == '__main__':\n",
    "    #pass in the username of the account you want to download\n",
    "    get_all_tweets(\"realDonaldTrump\")"
   ]
  },
  {
   "cell_type": "code",
   "execution_count": null,
   "metadata": {
    "collapsed": true
   },
   "outputs": [],
   "source": []
  }
 ],
 "metadata": {
  "kernelspec": {
   "display_name": "Python 3",
   "language": "python",
   "name": "python3"
  },
  "language_info": {
   "codemirror_mode": {
    "name": "ipython",
    "version": 3
   },
   "file_extension": ".py",
   "mimetype": "text/x-python",
   "name": "python",
   "nbconvert_exporter": "python",
   "pygments_lexer": "ipython3",
   "version": "3.6.1"
  }
 },
 "nbformat": 4,
 "nbformat_minor": 2
}
